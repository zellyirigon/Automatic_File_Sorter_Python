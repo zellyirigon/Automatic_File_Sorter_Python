{
 "cells": [
  {
   "cell_type": "markdown",
   "id": "1ec50acd-3eaa-429d-9fc0-074e0359d402",
   "metadata": {},
   "source": [
    "# Automatic File Sorter"
   ]
  },
  {
   "cell_type": "code",
   "execution_count": 7,
   "id": "8fc92244-467b-410a-b137-973a290ebd25",
   "metadata": {},
   "outputs": [],
   "source": [
    "!pip install -q watermark"
   ]
  },
  {
   "cell_type": "code",
   "execution_count": 8,
   "id": "d1281ee5-9f27-42bf-b4c6-6e0d5963c3b5",
   "metadata": {},
   "outputs": [
    {
     "name": "stdout",
     "output_type": "stream",
     "text": [
      "Author: Zelly Irigon\n",
      "\n"
     ]
    }
   ],
   "source": [
    "%reload_ext watermark\n",
    "%watermark -a \"Zelly Irigon\""
   ]
  },
  {
   "cell_type": "code",
   "execution_count": 3,
   "id": "bafcd138-fcd8-4059-a589-28639c62c016",
   "metadata": {},
   "outputs": [],
   "source": [
    "import os, shutil"
   ]
  },
  {
   "cell_type": "code",
   "execution_count": 4,
   "id": "51458931-4597-4a6c-9f73-468c4ce8e1d8",
   "metadata": {},
   "outputs": [],
   "source": [
    "path = r'D:\\Analyst_Builder_Course\\python\\automatic_file_sorter_Project\\\\'"
   ]
  },
  {
   "cell_type": "code",
   "execution_count": 6,
   "id": "161e3649-e24a-4650-b8e4-20f5e43fa664",
   "metadata": {},
   "outputs": [
    {
     "data": {
      "text/plain": [
       "['CSV Files',\n",
       " 'CSVFile.csv',\n",
       " 'Fake File.png',\n",
       " 'FakeFile.csv',\n",
       " 'FakeFile.txt',\n",
       " 'Image Files',\n",
       " 'Image Files.png',\n",
       " 'NewFile.tsv',\n",
       " 'Text File.txt',\n",
       " 'Text Files']"
      ]
     },
     "execution_count": 6,
     "metadata": {},
     "output_type": "execute_result"
    }
   ],
   "source": [
    "#show the list of files there are in my folder\n",
    "os.listdir(path)"
   ]
  },
  {
   "cell_type": "code",
   "execution_count": 27,
   "id": "dd28a2d8-25e6-485c-81b7-bf18a7f336f7",
   "metadata": {},
   "outputs": [],
   "source": [
    "path = r'D:\\Analyst_Builder_Course\\python\\automatic_file_sorter_Project\\\\'\n",
    "\n",
    "\n",
    "folder_names = ['CSV Files', 'Text Files', 'Image Files']\n",
    "\n",
    "\n",
    "\n",
    "# If the folder of list doesn't exist, it will be created.\n",
    "for folder in folder_names:\n",
    "    if not os.path.exists(path + folder):\n",
    "        os.makedirs(path + folder)\n",
    "\n",
    "\n",
    "file_names = os.listdir(path)\n",
    "\n",
    "\n",
    "\n",
    "#Moving Files for Folders create above\n",
    "for file in file_names:\n",
    "\n",
    "    #CSV files\n",
    "    if \".csv\" in file and not os.path.exists(path + \"CSV Files\\\\\" + file):\n",
    "        shutil.move(path+ file, path + \"CSV Files\\\\\" + file) # before the comma is the current location, after the comma the new location\n",
    "    # Moving the Image Files\n",
    "    elif \".png\" in file and not os.path.exists(path + \"Image Files\\\\\" + file):\n",
    "        shutil.move(path + file, path + \"Image Files\\\\\" + file)\n",
    "    # Moving the Txt Files\n",
    "    elif \".txt\" in file and not os.path.exists(path + \"Text Files\\\\\" + file):\n",
    "        shutil.move(path + file, path + \"Text Files\\\\\" + file)\n"
   ]
  }
 ],
 "metadata": {
  "kernelspec": {
   "display_name": "Python 3 (ipykernel)",
   "language": "python",
   "name": "python3"
  },
  "language_info": {
   "codemirror_mode": {
    "name": "ipython",
    "version": 3
   },
   "file_extension": ".py",
   "mimetype": "text/x-python",
   "name": "python",
   "nbconvert_exporter": "python",
   "pygments_lexer": "ipython3",
   "version": "3.11.7"
  }
 },
 "nbformat": 4,
 "nbformat_minor": 5
}
